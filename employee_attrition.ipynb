{
 "cells": [
  {
   "cell_type": "code",
   "execution_count": 4,
   "metadata": {},
   "outputs": [],
   "source": [
    "import pandas as pd\n",
    "import numpy as np\n",
    "import matplotlib.pyplot as plt"
   ]
  },
  {
   "cell_type": "code",
   "execution_count": 5,
   "metadata": {},
   "outputs": [
    {
     "data": {
      "text/html": [
       "<div>\n",
       "<style scoped>\n",
       "    .dataframe tbody tr th:only-of-type {\n",
       "        vertical-align: middle;\n",
       "    }\n",
       "\n",
       "    .dataframe tbody tr th {\n",
       "        vertical-align: top;\n",
       "    }\n",
       "\n",
       "    .dataframe thead th {\n",
       "        text-align: right;\n",
       "    }\n",
       "</style>\n",
       "<table border=\"1\" class=\"dataframe\">\n",
       "  <thead>\n",
       "    <tr style=\"text-align: right;\">\n",
       "      <th></th>\n",
       "      <th>Job Title</th>\n",
       "      <th>Years of Experience</th>\n",
       "      <th>Department</th>\n",
       "      <th>Salary Range</th>\n",
       "      <th>Work Location</th>\n",
       "      <th>Training Hours</th>\n",
       "      <th>Satisfaction Score</th>\n",
       "      <th>Last Evaluation Score</th>\n",
       "      <th>Average Monthly Hours</th>\n",
       "      <th>Attrition</th>\n",
       "    </tr>\n",
       "  </thead>\n",
       "  <tbody>\n",
       "    <tr>\n",
       "      <th>0</th>\n",
       "      <td>Assistant</td>\n",
       "      <td>25</td>\n",
       "      <td>Sales</td>\n",
       "      <td>High</td>\n",
       "      <td>Office</td>\n",
       "      <td>17</td>\n",
       "      <td>1</td>\n",
       "      <td>8</td>\n",
       "      <td>148</td>\n",
       "      <td>0</td>\n",
       "    </tr>\n",
       "    <tr>\n",
       "      <th>1</th>\n",
       "      <td>Consultant</td>\n",
       "      <td>29</td>\n",
       "      <td>Customer Support</td>\n",
       "      <td>Medium</td>\n",
       "      <td>Office</td>\n",
       "      <td>68</td>\n",
       "      <td>10</td>\n",
       "      <td>0</td>\n",
       "      <td>178</td>\n",
       "      <td>0</td>\n",
       "    </tr>\n",
       "    <tr>\n",
       "      <th>2</th>\n",
       "      <td>Executive</td>\n",
       "      <td>6</td>\n",
       "      <td>Sales</td>\n",
       "      <td>High</td>\n",
       "      <td>Office</td>\n",
       "      <td>47</td>\n",
       "      <td>4</td>\n",
       "      <td>7</td>\n",
       "      <td>298</td>\n",
       "      <td>0</td>\n",
       "    </tr>\n",
       "    <tr>\n",
       "      <th>3</th>\n",
       "      <td>Consultant</td>\n",
       "      <td>3</td>\n",
       "      <td>Marketing</td>\n",
       "      <td>Medium</td>\n",
       "      <td>Remote</td>\n",
       "      <td>8</td>\n",
       "      <td>1</td>\n",
       "      <td>0</td>\n",
       "      <td>282</td>\n",
       "      <td>0</td>\n",
       "    </tr>\n",
       "    <tr>\n",
       "      <th>4</th>\n",
       "      <td>Consultant</td>\n",
       "      <td>28</td>\n",
       "      <td>Customer Support</td>\n",
       "      <td>High</td>\n",
       "      <td>Remote</td>\n",
       "      <td>53</td>\n",
       "      <td>5</td>\n",
       "      <td>2</td>\n",
       "      <td>249</td>\n",
       "      <td>0</td>\n",
       "    </tr>\n",
       "  </tbody>\n",
       "</table>\n",
       "</div>"
      ],
      "text/plain": [
       "    Job Title  Years of Experience        Department Salary Range  \\\n",
       "0   Assistant                   25             Sales         High   \n",
       "1  Consultant                   29  Customer Support       Medium   \n",
       "2   Executive                    6             Sales         High   \n",
       "3  Consultant                    3         Marketing       Medium   \n",
       "4  Consultant                   28  Customer Support         High   \n",
       "\n",
       "  Work Location  Training Hours  Satisfaction Score  Last Evaluation Score  \\\n",
       "0        Office              17                   1                      8   \n",
       "1        Office              68                  10                      0   \n",
       "2        Office              47                   4                      7   \n",
       "3        Remote               8                   1                      0   \n",
       "4        Remote              53                   5                      2   \n",
       "\n",
       "   Average Monthly Hours  Attrition  \n",
       "0                    148          0  \n",
       "1                    178          0  \n",
       "2                    298          0  \n",
       "3                    282          0  \n",
       "4                    249          0  "
      ]
     },
     "execution_count": 5,
     "metadata": {},
     "output_type": "execute_result"
    }
   ],
   "source": [
    "data = pd.read_csv(\"data/employee_attrition_demo_data.csv\")\n",
    "df = data.copy()\n",
    "df.head(5)"
   ]
  },
  {
   "cell_type": "code",
   "execution_count": 6,
   "metadata": {},
   "outputs": [
    {
     "data": {
      "text/plain": [
       "Job Title                  5\n",
       "Years of Experience       31\n",
       "Department                 4\n",
       "Salary Range               3\n",
       "Work Location              2\n",
       "Training Hours           101\n",
       "Satisfaction Score        11\n",
       "Last Evaluation Score     11\n",
       "Average Monthly Hours    201\n",
       "Attrition                  2\n",
       "dtype: int64"
      ]
     },
     "execution_count": 6,
     "metadata": {},
     "output_type": "execute_result"
    }
   ],
   "source": [
    "df.nunique()"
   ]
  },
  {
   "cell_type": "code",
   "execution_count": 4,
   "metadata": {},
   "outputs": [
    {
     "data": {
      "text/plain": [
       "Index(['Job Title', 'Years of Experience', 'Department', 'Salary Range',\n",
       "       'Work Location', 'Training Hours', 'Satisfaction Score',\n",
       "       'Last Evaluation Score', 'Average Monthly Hours', 'Attrition'],\n",
       "      dtype='object')"
      ]
     },
     "execution_count": 4,
     "metadata": {},
     "output_type": "execute_result"
    }
   ],
   "source": [
    "df.columns"
   ]
  },
  {
   "cell_type": "code",
   "execution_count": 3,
   "metadata": {},
   "outputs": [
    {
     "name": "stdout",
     "output_type": "stream",
     "text": [
      "0\n"
     ]
    }
   ],
   "source": [
    "print(df['Attrition'].isnull().sum())\n"
   ]
  },
  {
   "cell_type": "code",
   "execution_count": 6,
   "metadata": {},
   "outputs": [
    {
     "name": "stdout",
     "output_type": "stream",
     "text": [
      "<class 'pandas.core.frame.DataFrame'>\n",
      "RangeIndex: 10000 entries, 0 to 9999\n",
      "Data columns (total 10 columns):\n",
      " #   Column                 Non-Null Count  Dtype \n",
      "---  ------                 --------------  ----- \n",
      " 0   Job Title              10000 non-null  object\n",
      " 1   Years of Experience    10000 non-null  int64 \n",
      " 2   Department             10000 non-null  object\n",
      " 3   Salary Range           10000 non-null  object\n",
      " 4   Work Location          10000 non-null  object\n",
      " 5   Training Hours         10000 non-null  int64 \n",
      " 6   Satisfaction Score     10000 non-null  int64 \n",
      " 7   Last Evaluation Score  10000 non-null  int64 \n",
      " 8   Average Monthly Hours  10000 non-null  int64 \n",
      " 9   Attrition              10000 non-null  int64 \n",
      "dtypes: int64(6), object(4)\n",
      "memory usage: 781.4+ KB\n"
     ]
    }
   ],
   "source": [
    "df.info(5)"
   ]
  },
  {
   "cell_type": "code",
   "execution_count": 11,
   "metadata": {},
   "outputs": [
    {
     "name": "stdout",
     "output_type": "stream",
     "text": [
      "y dtype: float64\n",
      "Accuracy: 1.0\n",
      "Classification Report:\n",
      "               precision    recall  f1-score   support\n",
      "\n",
      "           0       1.00      1.00      1.00      2000\n",
      "\n",
      "    accuracy                           1.00      2000\n",
      "   macro avg       1.00      1.00      1.00      2000\n",
      "weighted avg       1.00      1.00      1.00      2000\n",
      "\n",
      "Confusion Matrix:\n",
      " [[2000]]\n"
     ]
    }
   ],
   "source": [
    "import pandas as pd\n",
    "from sklearn.model_selection import train_test_split\n",
    "from sklearn.ensemble import RandomForestClassifier\n",
    "from sklearn.metrics import accuracy_score, classification_report, confusion_matrix\n",
    "from sklearn.preprocessing import LabelEncoder\n",
    "\n",
    "# Load data\n",
    "df = pd.read_csv('employee_attrition/data/employee_attrition_demo_data.csv')\n",
    "\n",
    "# Handle missing values in 'Attrition' (if not already done)\n",
    "df.dropna(subset=['Attrition'], inplace=True)\n",
    "\n",
    "# Handle categorical variables\n",
    "label_encoder = LabelEncoder()\n",
    "df['Job Title'] = label_encoder.fit_transform(df['Job Title'])\n",
    "df['Department'] = label_encoder.fit_transform(df['Department'])\n",
    "df['Work Location'] = label_encoder.fit_transform(df['Work Location'])\n",
    "df['Salary Range'] = label_encoder.fit_transform(df['Salary Range'])\n",
    "\n",
    "# Define features and target\n",
    "X = df.drop(columns=['Attrition'])\n",
    "y = df['Attrition'].map({'Yes': 1, 'No': 0})  # Convert 'Yes'/'No' to 1/0\n",
    "\n",
    "# Ensure 'y' is numeric\n",
    "print(\"y dtype:\", y.dtype)  # Check data type of 'y'\n",
    "\n",
    "# Split data into training and testing sets\n",
    "X_train, X_test, y_train, y_test = train_test_split(X, y, test_size=0.2, random_state=42)\n",
    "\n",
    "# Handle NaN values in 'y_train' and 'y_test'\n",
    "y_train.fillna(0, inplace=True)  # Fill NaN with 0 for 'No'\n",
    "y_test.fillna(0, inplace=True)   # Fill NaN with 0 for 'No'\n",
    "\n",
    "# Convert 'y_train' and 'y_test' to int64\n",
    "y_train = y_train.astype('int64')\n",
    "y_test = y_test.astype('int64')\n",
    "\n",
    "# Initialize and train a Random Forest classifier (or choose another classifier)\n",
    "model = RandomForestClassifier(random_state=42)\n",
    "\n",
    "try:\n",
    "    # Train model\n",
    "    model.fit(X_train, y_train)\n",
    "\n",
    "    # Predict on test set\n",
    "    y_pred = model.predict(X_test)\n",
    "\n",
    "    # Evaluate model performance\n",
    "    print(\"Accuracy:\", accuracy_score(y_test, y_pred))\n",
    "    print(\"Classification Report:\\n\", classification_report(y_test, y_pred))\n",
    "    print(\"Confusion Matrix:\\n\", confusion_matrix(y_test, y_pred))\n",
    "\n",
    "except ValueError as e:\n",
    "    print(\"ValueError during model training:\", e)\n",
    "    print(\"Shape of X_train:\", X_train.shape)\n",
    "    print(\"Shape of y_train:\", y_train.shape)\n",
    "    raise  # Rethrow the exception for further analysis\n"
   ]
  },
  {
   "cell_type": "code",
   "execution_count": 12,
   "metadata": {},
   "outputs": [
    {
     "name": "stdout",
     "output_type": "stream",
     "text": [
      "[nan]\n",
      "Series([], Name: count, dtype: int64)\n"
     ]
    }
   ],
   "source": [
    "print(y.unique())  # Check unique values in 'y'\n",
    "print(y.value_counts())  # Check distribution of values in 'y'\n"
   ]
  },
  {
   "cell_type": "code",
   "execution_count": 13,
   "metadata": {},
   "outputs": [
    {
     "name": "stdout",
     "output_type": "stream",
     "text": [
      "NaN values in y_train: 0\n",
      "NaN values in y_test: 0\n",
      "Data type of y_train: int64\n",
      "Data type of y_test: int64\n"
     ]
    }
   ],
   "source": [
    "print(\"NaN values in y_train:\", y_train.isnull().sum())\n",
    "print(\"NaN values in y_test:\", y_test.isnull().sum())\n",
    "print(\"Data type of y_train:\", y_train.dtype)\n",
    "print(\"Data type of y_test:\", y_test.dtype)\n"
   ]
  },
  {
   "cell_type": "code",
   "execution_count": 14,
   "metadata": {},
   "outputs": [
    {
     "name": "stdout",
     "output_type": "stream",
     "text": [
      "y dtype: float64\n",
      "Validation Accuracy: 1.0\n",
      "Validation Classification Report:\n",
      "               precision    recall  f1-score   support\n",
      "\n",
      "           0       1.00      1.00      1.00      2000\n",
      "\n",
      "    accuracy                           1.00      2000\n",
      "   macro avg       1.00      1.00      1.00      2000\n",
      "weighted avg       1.00      1.00      1.00      2000\n",
      "\n",
      "Validation Confusion Matrix:\n",
      " [[2000]]\n",
      "\n",
      "Test Accuracy: 1.0\n",
      "Test Classification Report:\n",
      "               precision    recall  f1-score   support\n",
      "\n",
      "           0       1.00      1.00      1.00      2000\n",
      "\n",
      "    accuracy                           1.00      2000\n",
      "   macro avg       1.00      1.00      1.00      2000\n",
      "weighted avg       1.00      1.00      1.00      2000\n",
      "\n",
      "Test Confusion Matrix:\n",
      " [[2000]]\n"
     ]
    }
   ],
   "source": [
    "import pandas as pd\n",
    "from sklearn.model_selection import train_test_split\n",
    "from sklearn.ensemble import RandomForestClassifier\n",
    "from sklearn.metrics import accuracy_score, classification_report, confusion_matrix\n",
    "from sklearn.preprocessing import LabelEncoder\n",
    "\n",
    "# Load data\n",
    "df = pd.read_csv('employee_attrition/data/employee_attrition_demo_data.csv')\n",
    "\n",
    "# Handle missing values in 'Attrition' (if not already done)\n",
    "df.dropna(subset=['Attrition'], inplace=True)\n",
    "\n",
    "# Handle categorical variables\n",
    "label_encoder = LabelEncoder()\n",
    "df['Job Title'] = label_encoder.fit_transform(df['Job Title'])\n",
    "df['Department'] = label_encoder.fit_transform(df['Department'])\n",
    "df['Work Location'] = label_encoder.fit_transform(df['Work Location'])\n",
    "df['Salary Range'] = label_encoder.fit_transform(df['Salary Range'])\n",
    "\n",
    "# Define features and target\n",
    "X = df.drop(columns=['Attrition'])\n",
    "y = df['Attrition'].map({'Yes': 1, 'No': 0})  # Convert 'Yes'/'No' to 1/0\n",
    "\n",
    "# Ensure 'y' is numeric\n",
    "print(\"y dtype:\", y.dtype)  # Check data type of 'y'\n",
    "\n",
    "# Split data into training and testing sets first\n",
    "X_train, X_test, y_train, y_test = train_test_split(X, y, test_size=0.2, random_state=42)\n",
    "\n",
    "# Split training set into training and validation sets\n",
    "X_train, X_val, y_train, y_val = train_test_split(X_train, y_train, test_size=0.25, random_state=42)\n",
    "\n",
    "# Handle NaN values in 'y_train', 'y_val', and 'y_test'\n",
    "y_train.fillna(0, inplace=True)  # Fill NaN with 0 for 'No'\n",
    "y_val.fillna(0, inplace=True)    # Fill NaN with 0 for 'No'\n",
    "y_test.fillna(0, inplace=True)   # Fill NaN with 0 for 'No'\n",
    "\n",
    "# Convert 'y_train', 'y_val', and 'y_test' to int64\n",
    "y_train = y_train.astype('int64')\n",
    "y_val = y_val.astype('int64')\n",
    "y_test = y_test.astype('int64')\n",
    "\n",
    "# Initialize and train a Random Forest classifier (or choose another classifier)\n",
    "model = RandomForestClassifier(random_state=42)\n",
    "\n",
    "try:\n",
    "    # Train model on training set\n",
    "    model.fit(X_train, y_train)\n",
    "\n",
    "    # Predict on validation set\n",
    "    y_pred_val = model.predict(X_val)\n",
    "\n",
    "    # Evaluate validation set performance\n",
    "    print(\"Validation Accuracy:\", accuracy_score(y_val, y_pred_val))\n",
    "    print(\"Validation Classification Report:\\n\", classification_report(y_val, y_pred_val))\n",
    "    print(\"Validation Confusion Matrix:\\n\", confusion_matrix(y_val, y_pred_val))\n",
    "\n",
    "    # Predict on test set\n",
    "    y_pred_test = model.predict(X_test)\n",
    "\n",
    "    # Evaluate test set performance\n",
    "    print(\"\\nTest Accuracy:\", accuracy_score(y_test, y_pred_test))\n",
    "    print(\"Test Classification Report:\\n\", classification_report(y_test, y_pred_test))\n",
    "    print(\"Test Confusion Matrix:\\n\", confusion_matrix(y_test, y_pred_test))\n",
    "\n",
    "except ValueError as e:\n",
    "    print(\"ValueError during model training:\", e)\n",
    "    print(\"Shape of X_train:\", X_train.shape)\n",
    "    print(\"Shape of y_train:\", y_train.shape)\n",
    "    raise  # Rethrow the exception for further analysis\n"
   ]
  },
  {
   "cell_type": "code",
   "execution_count": 7,
   "metadata": {},
   "outputs": [],
   "source": [
    "import pandas as pd\n",
    "from sklearn.model_selection import train_test_split\n",
    "from sklearn.preprocessing import LabelEncoder\n",
    "from sklearn.ensemble import RandomForestClassifier\n",
    "import pickle\n",
    "\n",
    "\n",
    "# Load data\n",
    "data = pd.read_csv(\"data/employee_attrition_demo_data.csv\")\n",
    "\n",
    "\n",
    "\n",
    "# Convert to DataFrame\n",
    "df = pd.DataFrame(data)\n",
    "\n",
    "# Encode categorical variables\n",
    "label_encoders = {}\n",
    "for column in ['Job Title', 'Department', 'Salary Range', 'Work Location']:\n",
    "    le = LabelEncoder()\n",
    "    df[column] = le.fit_transform(df[column])\n",
    "    label_encoders[column] = le\n",
    "\n",
    "# Split the data into features and target\n",
    "X = df.drop('Attrition', axis=1)\n",
    "y = df['Attrition']\n",
    "\n",
    "# Split the data into training and testing sets\n",
    "X_train, X_test, y_train, y_test = train_test_split(X, y, test_size=0.2, random_state=42)\n",
    "\n",
    "# Train a RandomForest model\n",
    "model = RandomForestClassifier(n_estimators=100, random_state=42)\n",
    "model.fit(X_train, y_train)\n",
    "\n",
    "# Save the model\n",
    "with open('attrition_model.pkl', 'wb') as f:\n",
    "    pickle.dump(model, f)\n",
    "\n",
    "# Save the label encoders\n",
    "with open('label_encoders.pkl', 'wb') as f:\n",
    "    pickle.dump(label_encoders, f)\n"
   ]
  }
 ],
 "metadata": {
  "kernelspec": {
   "display_name": "myenv",
   "language": "python",
   "name": "python3"
  },
  "language_info": {
   "codemirror_mode": {
    "name": "ipython",
    "version": 3
   },
   "file_extension": ".py",
   "mimetype": "text/x-python",
   "name": "python",
   "nbconvert_exporter": "python",
   "pygments_lexer": "ipython3",
   "version": "3.12.4"
  }
 },
 "nbformat": 4,
 "nbformat_minor": 2
}
